{
 "cells": [
  {
   "cell_type": "markdown",
   "id": "63e2692b",
   "metadata": {},
   "source": []
  },
  {
   "cell_type": "markdown",
   "id": "bb5367ce",
   "metadata": {},
   "source": [
    "# RKNN Conversion Guide\n",
    "\n",
    "### Step 1: Convert to ONNX \n",
    "\n",
    "To convert to ONNX, simply run the `create_onnx.py` script with your model weights, see below"
   ]
  },
  {
   "cell_type": "code",
   "execution_count": null,
   "id": "0659e15f",
   "metadata": {},
   "outputs": [
    {
     "name": "stdout",
     "output_type": "stream",
     "text": [
      "git version 2.43.0\n",
      "Cloning Rockchip repo...\n"
     ]
    },
    {
     "name": "stderr",
     "output_type": "stream",
     "text": [
      "Cloning into 'airockchip_yolo_pkg'...\n"
     ]
    },
    {
     "name": "stdout",
     "output_type": "stream",
     "text": [
      "Running pip install...\n",
      "Obtaining file:///home/boomermath/opiplayground/rknn_convert_tool/airockchip_yolo_pkg\n",
      "  Installing build dependencies: started\n",
      "  Installing build dependencies: finished with status 'done'\n",
      "  Checking if build backend supports build_editable: started\n",
      "  Checking if build backend supports build_editable: finished with status 'done'\n",
      "  Getting requirements to build editable: started\n",
      "  Getting requirements to build editable: finished with status 'done'\n",
      "  Preparing editable metadata (pyproject.toml): started\n",
      "  Preparing editable metadata (pyproject.toml): finished with status 'done'\n",
      "Requirement already satisfied: numpy<2.0.0,>=1.23.0 in /home/boomermath/opiplayground/.venv/lib/python3.10/site-packages (from ultralytics==8.2.82) (1.26.4)\n",
      "Requirement already satisfied: matplotlib>=3.3.0 in /home/boomermath/opiplayground/.venv/lib/python3.10/site-packages (from ultralytics==8.2.82) (3.10.3)\n",
      "Requirement already satisfied: opencv-python>=4.6.0 in /home/boomermath/opiplayground/.venv/lib/python3.10/site-packages (from ultralytics==8.2.82) (4.11.0.86)\n",
      "Requirement already satisfied: pillow>=7.1.2 in /home/boomermath/opiplayground/.venv/lib/python3.10/site-packages (from ultralytics==8.2.82) (11.3.0)\n",
      "Requirement already satisfied: pyyaml>=5.3.1 in /home/boomermath/opiplayground/.venv/lib/python3.10/site-packages (from ultralytics==8.2.82) (6.0.2)\n",
      "Requirement already satisfied: requests>=2.23.0 in /home/boomermath/opiplayground/.venv/lib/python3.10/site-packages (from ultralytics==8.2.82) (2.32.4)\n",
      "Requirement already satisfied: scipy>=1.4.1 in /home/boomermath/opiplayground/.venv/lib/python3.10/site-packages (from ultralytics==8.2.82) (1.15.3)\n",
      "Requirement already satisfied: torch>=1.8.0 in /home/boomermath/opiplayground/.venv/lib/python3.10/site-packages (from ultralytics==8.2.82) (2.4.1)\n",
      "Requirement already satisfied: torchvision>=0.9.0 in /home/boomermath/opiplayground/.venv/lib/python3.10/site-packages (from ultralytics==8.2.82) (0.19.1)\n",
      "Requirement already satisfied: tqdm>=4.64.0 in /home/boomermath/opiplayground/.venv/lib/python3.10/site-packages (from ultralytics==8.2.82) (4.67.1)\n",
      "Requirement already satisfied: psutil in /home/boomermath/opiplayground/.venv/lib/python3.10/site-packages (from ultralytics==8.2.82) (7.0.0)\n",
      "Requirement already satisfied: py-cpuinfo in /home/boomermath/opiplayground/.venv/lib/python3.10/site-packages (from ultralytics==8.2.82) (9.0.0)\n",
      "Requirement already satisfied: pandas>=1.1.4 in /home/boomermath/opiplayground/.venv/lib/python3.10/site-packages (from ultralytics==8.2.82) (2.3.1)\n",
      "Requirement already satisfied: seaborn>=0.11.0 in /home/boomermath/opiplayground/.venv/lib/python3.10/site-packages (from ultralytics==8.2.82) (0.13.2)\n",
      "Requirement already satisfied: ultralytics-thop>=2.0.0 in /home/boomermath/opiplayground/.venv/lib/python3.10/site-packages (from ultralytics==8.2.82) (2.0.14)\n",
      "Requirement already satisfied: contourpy>=1.0.1 in /home/boomermath/opiplayground/.venv/lib/python3.10/site-packages (from matplotlib>=3.3.0->ultralytics==8.2.82) (1.3.2)\n",
      "Requirement already satisfied: cycler>=0.10 in /home/boomermath/opiplayground/.venv/lib/python3.10/site-packages (from matplotlib>=3.3.0->ultralytics==8.2.82) (0.12.1)\n",
      "Requirement already satisfied: fonttools>=4.22.0 in /home/boomermath/opiplayground/.venv/lib/python3.10/site-packages (from matplotlib>=3.3.0->ultralytics==8.2.82) (4.59.0)\n",
      "Requirement already satisfied: kiwisolver>=1.3.1 in /home/boomermath/opiplayground/.venv/lib/python3.10/site-packages (from matplotlib>=3.3.0->ultralytics==8.2.82) (1.4.8)\n",
      "Requirement already satisfied: packaging>=20.0 in /home/boomermath/opiplayground/.venv/lib/python3.10/site-packages (from matplotlib>=3.3.0->ultralytics==8.2.82) (25.0)\n",
      "Requirement already satisfied: pyparsing>=2.3.1 in /home/boomermath/opiplayground/.venv/lib/python3.10/site-packages (from matplotlib>=3.3.0->ultralytics==8.2.82) (3.2.3)\n",
      "Requirement already satisfied: python-dateutil>=2.7 in /home/boomermath/opiplayground/.venv/lib/python3.10/site-packages (from matplotlib>=3.3.0->ultralytics==8.2.82) (2.9.0.post0)\n",
      "Requirement already satisfied: pytz>=2020.1 in /home/boomermath/opiplayground/.venv/lib/python3.10/site-packages (from pandas>=1.1.4->ultralytics==8.2.82) (2025.2)\n",
      "Requirement already satisfied: tzdata>=2022.7 in /home/boomermath/opiplayground/.venv/lib/python3.10/site-packages (from pandas>=1.1.4->ultralytics==8.2.82) (2025.2)\n",
      "Requirement already satisfied: six>=1.5 in /home/boomermath/opiplayground/.venv/lib/python3.10/site-packages (from python-dateutil>=2.7->matplotlib>=3.3.0->ultralytics==8.2.82) (1.17.0)\n",
      "Requirement already satisfied: charset_normalizer<4,>=2 in /home/boomermath/opiplayground/.venv/lib/python3.10/site-packages (from requests>=2.23.0->ultralytics==8.2.82) (3.4.2)\n",
      "Requirement already satisfied: idna<4,>=2.5 in /home/boomermath/opiplayground/.venv/lib/python3.10/site-packages (from requests>=2.23.0->ultralytics==8.2.82) (3.10)\n",
      "Requirement already satisfied: urllib3<3,>=1.21.1 in /home/boomermath/opiplayground/.venv/lib/python3.10/site-packages (from requests>=2.23.0->ultralytics==8.2.82) (2.5.0)\n",
      "Requirement already satisfied: certifi>=2017.4.17 in /home/boomermath/opiplayground/.venv/lib/python3.10/site-packages (from requests>=2.23.0->ultralytics==8.2.82) (2025.7.14)\n",
      "Requirement already satisfied: filelock in /home/boomermath/opiplayground/.venv/lib/python3.10/site-packages (from torch>=1.8.0->ultralytics==8.2.82) (3.18.0)\n",
      "Requirement already satisfied: typing-extensions>=4.8.0 in /home/boomermath/opiplayground/.venv/lib/python3.10/site-packages (from torch>=1.8.0->ultralytics==8.2.82) (4.14.1)\n",
      "Requirement already satisfied: sympy in /home/boomermath/opiplayground/.venv/lib/python3.10/site-packages (from torch>=1.8.0->ultralytics==8.2.82) (1.14.0)\n",
      "Requirement already satisfied: networkx in /home/boomermath/opiplayground/.venv/lib/python3.10/site-packages (from torch>=1.8.0->ultralytics==8.2.82) (3.4.2)\n",
      "Requirement already satisfied: jinja2 in /home/boomermath/opiplayground/.venv/lib/python3.10/site-packages (from torch>=1.8.0->ultralytics==8.2.82) (3.1.6)\n",
      "Requirement already satisfied: fsspec in /home/boomermath/opiplayground/.venv/lib/python3.10/site-packages (from torch>=1.8.0->ultralytics==8.2.82) (2025.7.0)\n",
      "Requirement already satisfied: nvidia-cuda-nvrtc-cu12==12.1.105 in /home/boomermath/opiplayground/.venv/lib/python3.10/site-packages (from torch>=1.8.0->ultralytics==8.2.82) (12.1.105)\n",
      "Requirement already satisfied: nvidia-cuda-runtime-cu12==12.1.105 in /home/boomermath/opiplayground/.venv/lib/python3.10/site-packages (from torch>=1.8.0->ultralytics==8.2.82) (12.1.105)\n",
      "Requirement already satisfied: nvidia-cuda-cupti-cu12==12.1.105 in /home/boomermath/opiplayground/.venv/lib/python3.10/site-packages (from torch>=1.8.0->ultralytics==8.2.82) (12.1.105)\n",
      "Requirement already satisfied: nvidia-cudnn-cu12==9.1.0.70 in /home/boomermath/opiplayground/.venv/lib/python3.10/site-packages (from torch>=1.8.0->ultralytics==8.2.82) (9.1.0.70)\n",
      "Requirement already satisfied: nvidia-cublas-cu12==12.1.3.1 in /home/boomermath/opiplayground/.venv/lib/python3.10/site-packages (from torch>=1.8.0->ultralytics==8.2.82) (12.1.3.1)\n",
      "Requirement already satisfied: nvidia-cufft-cu12==11.0.2.54 in /home/boomermath/opiplayground/.venv/lib/python3.10/site-packages (from torch>=1.8.0->ultralytics==8.2.82) (11.0.2.54)\n",
      "Requirement already satisfied: nvidia-curand-cu12==10.3.2.106 in /home/boomermath/opiplayground/.venv/lib/python3.10/site-packages (from torch>=1.8.0->ultralytics==8.2.82) (10.3.2.106)\n",
      "Requirement already satisfied: nvidia-cusolver-cu12==11.4.5.107 in /home/boomermath/opiplayground/.venv/lib/python3.10/site-packages (from torch>=1.8.0->ultralytics==8.2.82) (11.4.5.107)\n",
      "Requirement already satisfied: nvidia-cusparse-cu12==12.1.0.106 in /home/boomermath/opiplayground/.venv/lib/python3.10/site-packages (from torch>=1.8.0->ultralytics==8.2.82) (12.1.0.106)\n",
      "Requirement already satisfied: nvidia-nccl-cu12==2.20.5 in /home/boomermath/opiplayground/.venv/lib/python3.10/site-packages (from torch>=1.8.0->ultralytics==8.2.82) (2.20.5)\n",
      "Requirement already satisfied: nvidia-nvtx-cu12==12.1.105 in /home/boomermath/opiplayground/.venv/lib/python3.10/site-packages (from torch>=1.8.0->ultralytics==8.2.82) (12.1.105)\n",
      "Requirement already satisfied: triton==3.0.0 in /home/boomermath/opiplayground/.venv/lib/python3.10/site-packages (from torch>=1.8.0->ultralytics==8.2.82) (3.0.0)\n",
      "Requirement already satisfied: nvidia-nvjitlink-cu12 in /home/boomermath/opiplayground/.venv/lib/python3.10/site-packages (from nvidia-cusolver-cu12==11.4.5.107->torch>=1.8.0->ultralytics==8.2.82) (12.6.85)\n",
      "Requirement already satisfied: MarkupSafe>=2.0 in /home/boomermath/opiplayground/.venv/lib/python3.10/site-packages (from jinja2->torch>=1.8.0->ultralytics==8.2.82) (3.0.2)\n",
      "Requirement already satisfied: mpmath<1.4,>=1.1.0 in /home/boomermath/opiplayground/.venv/lib/python3.10/site-packages (from sympy->torch>=1.8.0->ultralytics==8.2.82) (1.3.0)\n",
      "Building wheels for collected packages: ultralytics\n",
      "  Building editable for ultralytics (pyproject.toml): started\n",
      "  Building editable for ultralytics (pyproject.toml): finished with status 'done'\n",
      "  Created wheel for ultralytics: filename=ultralytics-8.2.82-0.editable-py3-none-any.whl size=23417 sha256=97f0569ddb9a3ec6da62570fd285adf7b4f1538c231e755141211150324e23a4\n",
      "  Stored in directory: /tmp/pip-ephem-wheel-cache-a3cybzez/wheels/3d/66/8a/be9eda09519319320cd6748d8532015a54ca34cb95b200afae\n",
      "Successfully built ultralytics\n",
      "Installing collected packages: ultralytics\n",
      "  Attempting uninstall: ultralytics\n",
      "    Found existing installation: ultralytics 8.2.82\n",
      "    Uninstalling ultralytics-8.2.82:\n",
      "      Successfully uninstalled ultralytics-8.2.82\n",
      "Successfully installed ultralytics-8.2.82\n"
     ]
    },
    {
     "ename": "FileNotFoundError",
     "evalue": "[Errno 2] No such file or directory: 'weights.pt'",
     "output_type": "error",
     "traceback": [
      "\u001b[0;31m---------------------------------------------------------------------------\u001b[0m",
      "\u001b[0;31mFileNotFoundError\u001b[0m                         Traceback (most recent call last)",
      "File \u001b[0;32m~/opiplayground/rknn_convert_tool/create_onnx.py:88\u001b[0m\n\u001b[1;32m     85\u001b[0m args \u001b[38;5;241m=\u001b[39m parser\u001b[38;5;241m.\u001b[39mparse_args()\n\u001b[1;32m     87\u001b[0m check_git_installed()\n\u001b[0;32m---> 88\u001b[0m \u001b[43mrun_onnx_conversion\u001b[49m\u001b[43m(\u001b[49m\u001b[43margs\u001b[49m\u001b[38;5;241;43m.\u001b[39;49m\u001b[43mversion\u001b[49m\u001b[43m,\u001b[49m\u001b[43m \u001b[49m\u001b[43margs\u001b[49m\u001b[38;5;241;43m.\u001b[39;49m\u001b[43mmodel_path\u001b[49m\u001b[43m)\u001b[49m\n",
      "File \u001b[0;32m~/opiplayground/rknn_convert_tool/create_onnx.py:60\u001b[0m, in \u001b[0;36mrun_onnx_conversion\u001b[0;34m(version, model_path)\u001b[0m\n\u001b[1;32m     56\u001b[0m   sys\u001b[38;5;241m.\u001b[39mexit(\u001b[38;5;241m1\u001b[39m)\n\u001b[1;32m     58\u001b[0m \u001b[38;5;28;01mfrom\u001b[39;00m\u001b[38;5;250m \u001b[39m\u001b[38;5;21;01multralytics\u001b[39;00m\u001b[38;5;250m \u001b[39m\u001b[38;5;28;01mimport\u001b[39;00m YOLO\n\u001b[0;32m---> 60\u001b[0m model \u001b[38;5;241m=\u001b[39m \u001b[43mYOLO\u001b[49m\u001b[43m(\u001b[49m\u001b[43mmodel_path\u001b[49m\u001b[43m)\u001b[49m\n\u001b[1;32m     61\u001b[0m model\u001b[38;5;241m.\u001b[39mexport(\u001b[38;5;28mformat\u001b[39m\u001b[38;5;241m=\u001b[39m\u001b[38;5;124m\"\u001b[39m\u001b[38;5;124mrknn\u001b[39m\u001b[38;5;124m\"\u001b[39m)\n",
      "File \u001b[0;32m~/opiplayground/zrknn_quant_tool/airockchip_yolo_pkg/ultralytics/models/yolo/model.py:23\u001b[0m, in \u001b[0;36mYOLO.__init__\u001b[0;34m(self, model, task, verbose)\u001b[0m\n\u001b[1;32m     20\u001b[0m     \u001b[38;5;28mself\u001b[39m\u001b[38;5;241m.\u001b[39m\u001b[38;5;18m__dict__\u001b[39m \u001b[38;5;241m=\u001b[39m new_instance\u001b[38;5;241m.\u001b[39m\u001b[38;5;18m__dict__\u001b[39m\n\u001b[1;32m     21\u001b[0m \u001b[38;5;28;01melse\u001b[39;00m:\n\u001b[1;32m     22\u001b[0m     \u001b[38;5;66;03m# Continue with default YOLO initialization\u001b[39;00m\n\u001b[0;32m---> 23\u001b[0m     \u001b[38;5;28;43msuper\u001b[39;49m\u001b[43m(\u001b[49m\u001b[43m)\u001b[49m\u001b[38;5;241;43m.\u001b[39;49m\u001b[38;5;21;43m__init__\u001b[39;49m\u001b[43m(\u001b[49m\u001b[43mmodel\u001b[49m\u001b[38;5;241;43m=\u001b[39;49m\u001b[43mmodel\u001b[49m\u001b[43m,\u001b[49m\u001b[43m \u001b[49m\u001b[43mtask\u001b[49m\u001b[38;5;241;43m=\u001b[39;49m\u001b[43mtask\u001b[49m\u001b[43m,\u001b[49m\u001b[43m \u001b[49m\u001b[43mverbose\u001b[49m\u001b[38;5;241;43m=\u001b[39;49m\u001b[43mverbose\u001b[49m\u001b[43m)\u001b[49m\n",
      "File \u001b[0;32m~/opiplayground/zrknn_quant_tool/airockchip_yolo_pkg/ultralytics/engine/model.py:143\u001b[0m, in \u001b[0;36mModel.__init__\u001b[0;34m(self, model, task, verbose)\u001b[0m\n\u001b[1;32m    141\u001b[0m     \u001b[38;5;28mself\u001b[39m\u001b[38;5;241m.\u001b[39m_new(model, task\u001b[38;5;241m=\u001b[39mtask, verbose\u001b[38;5;241m=\u001b[39mverbose)\n\u001b[1;32m    142\u001b[0m \u001b[38;5;28;01melse\u001b[39;00m:\n\u001b[0;32m--> 143\u001b[0m     \u001b[38;5;28;43mself\u001b[39;49m\u001b[38;5;241;43m.\u001b[39;49m\u001b[43m_load\u001b[49m\u001b[43m(\u001b[49m\u001b[43mmodel\u001b[49m\u001b[43m,\u001b[49m\u001b[43m \u001b[49m\u001b[43mtask\u001b[49m\u001b[38;5;241;43m=\u001b[39;49m\u001b[43mtask\u001b[49m\u001b[43m)\u001b[49m\n",
      "File \u001b[0;32m~/opiplayground/zrknn_quant_tool/airockchip_yolo_pkg/ultralytics/engine/model.py:295\u001b[0m, in \u001b[0;36mModel._load\u001b[0;34m(self, weights, task)\u001b[0m\n\u001b[1;32m    292\u001b[0m weights \u001b[38;5;241m=\u001b[39m checks\u001b[38;5;241m.\u001b[39mcheck_model_file_from_stem(weights)  \u001b[38;5;66;03m# add suffix, i.e. yolov8n -> yolov8n.pt\u001b[39;00m\n\u001b[1;32m    294\u001b[0m \u001b[38;5;28;01mif\u001b[39;00m Path(weights)\u001b[38;5;241m.\u001b[39msuffix \u001b[38;5;241m==\u001b[39m \u001b[38;5;124m\"\u001b[39m\u001b[38;5;124m.pt\u001b[39m\u001b[38;5;124m\"\u001b[39m:\n\u001b[0;32m--> 295\u001b[0m     \u001b[38;5;28mself\u001b[39m\u001b[38;5;241m.\u001b[39mmodel, \u001b[38;5;28mself\u001b[39m\u001b[38;5;241m.\u001b[39mckpt \u001b[38;5;241m=\u001b[39m \u001b[43mattempt_load_one_weight\u001b[49m\u001b[43m(\u001b[49m\u001b[43mweights\u001b[49m\u001b[43m)\u001b[49m\n\u001b[1;32m    296\u001b[0m     \u001b[38;5;28mself\u001b[39m\u001b[38;5;241m.\u001b[39mtask \u001b[38;5;241m=\u001b[39m \u001b[38;5;28mself\u001b[39m\u001b[38;5;241m.\u001b[39mmodel\u001b[38;5;241m.\u001b[39margs[\u001b[38;5;124m\"\u001b[39m\u001b[38;5;124mtask\u001b[39m\u001b[38;5;124m\"\u001b[39m]\n\u001b[1;32m    297\u001b[0m     \u001b[38;5;28mself\u001b[39m\u001b[38;5;241m.\u001b[39moverrides \u001b[38;5;241m=\u001b[39m \u001b[38;5;28mself\u001b[39m\u001b[38;5;241m.\u001b[39mmodel\u001b[38;5;241m.\u001b[39margs \u001b[38;5;241m=\u001b[39m \u001b[38;5;28mself\u001b[39m\u001b[38;5;241m.\u001b[39m_reset_ckpt_args(\u001b[38;5;28mself\u001b[39m\u001b[38;5;241m.\u001b[39mmodel\u001b[38;5;241m.\u001b[39margs)\n",
      "File \u001b[0;32m~/opiplayground/zrknn_quant_tool/airockchip_yolo_pkg/ultralytics/nn/tasks.py:857\u001b[0m, in \u001b[0;36mattempt_load_one_weight\u001b[0;34m(weight, device, inplace, fuse)\u001b[0m\n\u001b[1;32m    855\u001b[0m \u001b[38;5;28;01mdef\u001b[39;00m\u001b[38;5;250m \u001b[39m\u001b[38;5;21mattempt_load_one_weight\u001b[39m(weight, device\u001b[38;5;241m=\u001b[39m\u001b[38;5;28;01mNone\u001b[39;00m, inplace\u001b[38;5;241m=\u001b[39m\u001b[38;5;28;01mTrue\u001b[39;00m, fuse\u001b[38;5;241m=\u001b[39m\u001b[38;5;28;01mFalse\u001b[39;00m):\n\u001b[1;32m    856\u001b[0m \u001b[38;5;250m    \u001b[39m\u001b[38;5;124;03m\"\"\"Loads a single model weights.\"\"\"\u001b[39;00m\n\u001b[0;32m--> 857\u001b[0m     ckpt, weight \u001b[38;5;241m=\u001b[39m \u001b[43mtorch_safe_load\u001b[49m\u001b[43m(\u001b[49m\u001b[43mweight\u001b[49m\u001b[43m)\u001b[49m  \u001b[38;5;66;03m# load ckpt\u001b[39;00m\n\u001b[1;32m    858\u001b[0m     args \u001b[38;5;241m=\u001b[39m {\u001b[38;5;241m*\u001b[39m\u001b[38;5;241m*\u001b[39mDEFAULT_CFG_DICT, \u001b[38;5;241m*\u001b[39m\u001b[38;5;241m*\u001b[39m(ckpt\u001b[38;5;241m.\u001b[39mget(\u001b[38;5;124m\"\u001b[39m\u001b[38;5;124mtrain_args\u001b[39m\u001b[38;5;124m\"\u001b[39m, {}))}  \u001b[38;5;66;03m# combine model and default args, preferring model args\u001b[39;00m\n\u001b[1;32m    859\u001b[0m     model \u001b[38;5;241m=\u001b[39m (ckpt\u001b[38;5;241m.\u001b[39mget(\u001b[38;5;124m\"\u001b[39m\u001b[38;5;124mema\u001b[39m\u001b[38;5;124m\"\u001b[39m) \u001b[38;5;129;01mor\u001b[39;00m ckpt[\u001b[38;5;124m\"\u001b[39m\u001b[38;5;124mmodel\u001b[39m\u001b[38;5;124m\"\u001b[39m])\u001b[38;5;241m.\u001b[39mto(device)\u001b[38;5;241m.\u001b[39mfloat()  \u001b[38;5;66;03m# FP32 model\u001b[39;00m\n",
      "File \u001b[0;32m~/opiplayground/zrknn_quant_tool/airockchip_yolo_pkg/ultralytics/nn/tasks.py:784\u001b[0m, in \u001b[0;36mtorch_safe_load\u001b[0;34m(weight)\u001b[0m\n\u001b[1;32m    772\u001b[0m \u001b[38;5;28;01mtry\u001b[39;00m:\n\u001b[1;32m    773\u001b[0m     \u001b[38;5;28;01mwith\u001b[39;00m temporary_modules(\n\u001b[1;32m    774\u001b[0m         modules\u001b[38;5;241m=\u001b[39m{\n\u001b[1;32m    775\u001b[0m             \u001b[38;5;124m\"\u001b[39m\u001b[38;5;124multralytics.yolo.utils\u001b[39m\u001b[38;5;124m\"\u001b[39m: \u001b[38;5;124m\"\u001b[39m\u001b[38;5;124multralytics.utils\u001b[39m\u001b[38;5;124m\"\u001b[39m,\n\u001b[0;32m   (...)\u001b[0m\n\u001b[1;32m    782\u001b[0m         },\n\u001b[1;32m    783\u001b[0m     ):\n\u001b[0;32m--> 784\u001b[0m         ckpt \u001b[38;5;241m=\u001b[39m \u001b[43mtorch\u001b[49m\u001b[38;5;241;43m.\u001b[39;49m\u001b[43mload\u001b[49m\u001b[43m(\u001b[49m\u001b[43mfile\u001b[49m\u001b[43m,\u001b[49m\u001b[43m \u001b[49m\u001b[43mmap_location\u001b[49m\u001b[38;5;241;43m=\u001b[39;49m\u001b[38;5;124;43m\"\u001b[39;49m\u001b[38;5;124;43mcpu\u001b[39;49m\u001b[38;5;124;43m\"\u001b[39;49m\u001b[43m)\u001b[49m\n\u001b[1;32m    786\u001b[0m \u001b[38;5;28;01mexcept\u001b[39;00m \u001b[38;5;167;01mModuleNotFoundError\u001b[39;00m \u001b[38;5;28;01mas\u001b[39;00m e:  \u001b[38;5;66;03m# e.name is missing module name\u001b[39;00m\n\u001b[1;32m    787\u001b[0m     \u001b[38;5;28;01mif\u001b[39;00m e\u001b[38;5;241m.\u001b[39mname \u001b[38;5;241m==\u001b[39m \u001b[38;5;124m\"\u001b[39m\u001b[38;5;124mmodels\u001b[39m\u001b[38;5;124m\"\u001b[39m:\n",
      "File \u001b[0;32m~/opiplayground/zrknn_quant_tool/airockchip_yolo_pkg/ultralytics/utils/patches.py:86\u001b[0m, in \u001b[0;36mtorch_load\u001b[0;34m(*args, **kwargs)\u001b[0m\n\u001b[1;32m     83\u001b[0m \u001b[38;5;28;01mif\u001b[39;00m TORCH_1_13 \u001b[38;5;129;01mand\u001b[39;00m \u001b[38;5;124m\"\u001b[39m\u001b[38;5;124mweights_only\u001b[39m\u001b[38;5;124m\"\u001b[39m \u001b[38;5;129;01mnot\u001b[39;00m \u001b[38;5;129;01min\u001b[39;00m kwargs:\n\u001b[1;32m     84\u001b[0m     kwargs[\u001b[38;5;124m\"\u001b[39m\u001b[38;5;124mweights_only\u001b[39m\u001b[38;5;124m\"\u001b[39m] \u001b[38;5;241m=\u001b[39m \u001b[38;5;28;01mFalse\u001b[39;00m\n\u001b[0;32m---> 86\u001b[0m \u001b[38;5;28;01mreturn\u001b[39;00m \u001b[43m_torch_load\u001b[49m\u001b[43m(\u001b[49m\u001b[38;5;241;43m*\u001b[39;49m\u001b[43margs\u001b[49m\u001b[43m,\u001b[49m\u001b[43m \u001b[49m\u001b[38;5;241;43m*\u001b[39;49m\u001b[38;5;241;43m*\u001b[39;49m\u001b[43mkwargs\u001b[49m\u001b[43m)\u001b[49m\n",
      "File \u001b[0;32m~/opiplayground/.venv/lib/python3.10/site-packages/torch/serialization.py:1065\u001b[0m, in \u001b[0;36mload\u001b[0;34m(f, map_location, pickle_module, weights_only, mmap, **pickle_load_args)\u001b[0m\n\u001b[1;32m   1062\u001b[0m \u001b[38;5;28;01mif\u001b[39;00m \u001b[38;5;124m'\u001b[39m\u001b[38;5;124mencoding\u001b[39m\u001b[38;5;124m'\u001b[39m \u001b[38;5;129;01mnot\u001b[39;00m \u001b[38;5;129;01min\u001b[39;00m pickle_load_args\u001b[38;5;241m.\u001b[39mkeys():\n\u001b[1;32m   1063\u001b[0m     pickle_load_args[\u001b[38;5;124m'\u001b[39m\u001b[38;5;124mencoding\u001b[39m\u001b[38;5;124m'\u001b[39m] \u001b[38;5;241m=\u001b[39m \u001b[38;5;124m'\u001b[39m\u001b[38;5;124mutf-8\u001b[39m\u001b[38;5;124m'\u001b[39m\n\u001b[0;32m-> 1065\u001b[0m \u001b[38;5;28;01mwith\u001b[39;00m \u001b[43m_open_file_like\u001b[49m\u001b[43m(\u001b[49m\u001b[43mf\u001b[49m\u001b[43m,\u001b[49m\u001b[43m \u001b[49m\u001b[38;5;124;43m'\u001b[39;49m\u001b[38;5;124;43mrb\u001b[39;49m\u001b[38;5;124;43m'\u001b[39;49m\u001b[43m)\u001b[49m \u001b[38;5;28;01mas\u001b[39;00m opened_file:\n\u001b[1;32m   1066\u001b[0m     \u001b[38;5;28;01mif\u001b[39;00m _is_zipfile(opened_file):\n\u001b[1;32m   1067\u001b[0m         \u001b[38;5;66;03m# The zipfile reader is going to advance the current file position.\u001b[39;00m\n\u001b[1;32m   1068\u001b[0m         \u001b[38;5;66;03m# If we want to actually tail call to torch.jit.load, we need to\u001b[39;00m\n\u001b[1;32m   1069\u001b[0m         \u001b[38;5;66;03m# reset back to the original position.\u001b[39;00m\n\u001b[1;32m   1070\u001b[0m         orig_position \u001b[38;5;241m=\u001b[39m opened_file\u001b[38;5;241m.\u001b[39mtell()\n",
      "File \u001b[0;32m~/opiplayground/.venv/lib/python3.10/site-packages/torch/serialization.py:468\u001b[0m, in \u001b[0;36m_open_file_like\u001b[0;34m(name_or_buffer, mode)\u001b[0m\n\u001b[1;32m    466\u001b[0m \u001b[38;5;28;01mdef\u001b[39;00m\u001b[38;5;250m \u001b[39m\u001b[38;5;21m_open_file_like\u001b[39m(name_or_buffer, mode):\n\u001b[1;32m    467\u001b[0m     \u001b[38;5;28;01mif\u001b[39;00m _is_path(name_or_buffer):\n\u001b[0;32m--> 468\u001b[0m         \u001b[38;5;28;01mreturn\u001b[39;00m \u001b[43m_open_file\u001b[49m\u001b[43m(\u001b[49m\u001b[43mname_or_buffer\u001b[49m\u001b[43m,\u001b[49m\u001b[43m \u001b[49m\u001b[43mmode\u001b[49m\u001b[43m)\u001b[49m\n\u001b[1;32m    469\u001b[0m     \u001b[38;5;28;01melse\u001b[39;00m:\n\u001b[1;32m    470\u001b[0m         \u001b[38;5;28;01mif\u001b[39;00m \u001b[38;5;124m'\u001b[39m\u001b[38;5;124mw\u001b[39m\u001b[38;5;124m'\u001b[39m \u001b[38;5;129;01min\u001b[39;00m mode:\n",
      "File \u001b[0;32m~/opiplayground/.venv/lib/python3.10/site-packages/torch/serialization.py:449\u001b[0m, in \u001b[0;36m_open_file.__init__\u001b[0;34m(self, name, mode)\u001b[0m\n\u001b[1;32m    448\u001b[0m \u001b[38;5;28;01mdef\u001b[39;00m\u001b[38;5;250m \u001b[39m\u001b[38;5;21m__init__\u001b[39m(\u001b[38;5;28mself\u001b[39m, name, mode):\n\u001b[0;32m--> 449\u001b[0m     \u001b[38;5;28msuper\u001b[39m()\u001b[38;5;241m.\u001b[39m\u001b[38;5;21m__init__\u001b[39m(\u001b[38;5;28;43mopen\u001b[39;49m\u001b[43m(\u001b[49m\u001b[43mname\u001b[49m\u001b[43m,\u001b[49m\u001b[43m \u001b[49m\u001b[43mmode\u001b[49m\u001b[43m)\u001b[49m)\n",
      "\u001b[0;31mFileNotFoundError\u001b[0m: [Errno 2] No such file or directory: 'weights.pt'"
     ]
    }
   ],
   "source": [
    "# where version is either yolov5, yolov8, or yolov11, and model_path is the path to your weights file (.pt)\n",
    "%run -i create_onnx.py --version yolov8 --model_path /home/boomermath/opiplayground/rknn_convert_tool/work/coralAlgae-640-640-yolov8s.pt"
   ]
  }
 ],
 "metadata": {
  "kernelspec": {
   "display_name": ".venv",
   "language": "python",
   "name": "python3"
  },
  "language_info": {
   "codemirror_mode": {
    "name": "ipython",
    "version": 3
   },
   "file_extension": ".py",
   "mimetype": "text/x-python",
   "name": "python",
   "nbconvert_exporter": "python",
   "pygments_lexer": "ipython3",
   "version": "3.10.18"
  }
 },
 "nbformat": 4,
 "nbformat_minor": 5
}
